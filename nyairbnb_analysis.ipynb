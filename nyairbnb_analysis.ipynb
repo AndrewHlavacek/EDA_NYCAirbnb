{
 "cells": [
  {
   "cell_type": "markdown",
   "metadata": {},
   "source": [
    "##Welcome to my NYC Airbnb EDA project - my second EDA project.##\n",
    "\n",
    "We will validate the data to make sure the .csv file is appropriate to work with, and if not then we will clean the data and handle the issues that we might run into with Pandas.\n",
    "\n",
    "After the validation we analyze the data for any underlying trends and interesting metrics that we want to investigate, and I will present these findings visually through: Matplotlib, Seaborn, and Tableau"
   ]
  },
  {
   "cell_type": "code",
   "execution_count": 1,
   "metadata": {},
   "outputs": [],
   "source": [
    "import pandas as pandas\n",
    "\n",
    "# Here is where we will investigate and validate the data for completeness and correctness.\n",
    "\n",
    "\n",
    "\n"
   ]
  }
 ],
 "metadata": {
  "kernelspec": {
   "display_name": "Python 3",
   "language": "python",
   "name": "python3"
  },
  "language_info": {
   "codemirror_mode": {
    "name": "ipython",
    "version": 3
   },
   "file_extension": ".py",
   "mimetype": "text/x-python",
   "name": "python",
   "nbconvert_exporter": "python",
   "pygments_lexer": "ipython3",
   "version": "3.12.0"
  }
 },
 "nbformat": 4,
 "nbformat_minor": 2
}
