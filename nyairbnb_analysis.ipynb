{
 "cells": [
  {
   "cell_type": "markdown",
   "metadata": {},
   "source": [
    "##Welcome to my NYC Airbnb EDA project - my second EDA project.##\n",
    "\n",
    "We will validate the data to make sure the .csv file is appropriate to work with, and if not then we will clean the data and handle the issues that we might run into with Pandas.\n",
    "\n",
    "After the validation we analyze the data for any underlying trends and interesting metrics that we want to investigate, and I will present these findings visually through: Matplotlib, Seaborn, and Tableau"
   ]
  },
  {
   "cell_type": "code",
   "execution_count": 10,
   "metadata": {},
   "outputs": [
    {
     "name": "stdout",
     "output_type": "stream",
     "text": [
      "     id                                name  host_id host_name  \\\n",
      "0  2539  Clean & quiet apt home by the park     2787      John   \n",
      "\n",
      "  neighbourhood_group neighbourhood  latitude  longitude     room_type  price  \\\n",
      "0            Brooklyn    Kensington  40.64749  -73.97237  Private room    149   \n",
      "\n",
      "   minimum_nights  number_of_reviews last_review  reviews_per_month  \\\n",
      "0               1                  9  2018-10-19               0.21   \n",
      "\n",
      "   calculated_host_listings_count  availability_365  \n",
      "0                               6               365  \n",
      "16\n",
      "21\n"
     ]
    }
   ],
   "source": [
    "import pandas as pd\n",
    "\n",
    "# Here is where we will investigate and validate the data for completeness and correctness.\n",
    "# I already did some initial exploration in Data Wrangler to see which columns had null values that needed to be replaced/filled.\n",
    "\n",
    "filepath = '/Users/andrewhlavacek/Documents/EDA_NYCAirbnb/AB_NYC_2019.csv'\n",
    "df = pd.read_csv(filepath)\n",
    "\n",
    "# Let's see what a row of the .csv looks like\n",
    "print(df.head(1))\n",
    "\n",
    "# Check for null values and fill 16 null values\n",
    "print(df['name'].isnull().sum())\n",
    "df['name'] = df['name'].fillna('Unknown')\n",
    "\n",
    "# Check for null values and fill 21 null values\n",
    "print(df['host_name'].isnull().sum())\n",
    "df['host_name'] = df['host_name'].fillna('Unknown')\n",
    "\n",
    "# Save the updated .csv for later work\n",
    "df.to_csv('/Users/andrewhlavacek/Documents/EDA_NYCAirbnb/AB_NYC_2019.csv', index=False)\n",
    "\n",
    "\n"
   ]
  },
  {
   "cell_type": "markdown",
   "metadata": {},
   "source": [
    "Now that we've cleaned the data we can move onto analyzing and visualizing the data so that we can tell a story about Airbnbs in New York\n",
    "\n",
    "We are going to break down our analysis and visualzation into three categories:\n",
    "\n",
    "Beginner:\n",
    "\n",
    "    1.\tWhich neighborhood group has the most Airbnb listings?\n",
    "\t2.\tWhat is the average price of an Airbnb listing in each borough?\n",
    "\t3.\tWhat is the distribution of room types across NYC?\n",
    "\t4.\tWhich 5 neighborhoods have the highest average price?\n",
    "\t5.\tHow many listings are available for at least 300 days a year?\n",
    "\n",
    "Intermediate:\n",
    "\n",
    "    1.\tIs there a correlation between number of reviews and price?\n",
    "\t2.\tWhat is the average price of listings based on room type and neighborhood group?\n",
    "\t3.\tWhich hosts have the most listings, and how much do they charge on average?\n",
    "\t4.\tHow does availability vary by borough across different room types?\n",
    "\t5.\tWhat are the most reviewed listings in Manhattan and their price ranges?\n",
    "\n",
    "Hard:\n",
    "\n",
    "\t1.\tCan we identify clusters of high-priced listings using latitude and longitude (e.g., via KMeans)?\n",
    "\t2.\tWhat is the price elasticity across room types and minimum night stays (does price predict duration)?\n",
    "\t3.\tIs there a statistically significant price difference between boroughs (e.g., ANOVA)?\n",
    "\t4.\tCan we build a model to predict listing price using features like room type, location, and availability?\n",
    "\t5.\tHow do availability and number of reviews impact price — controlling for neighborhood and room type (multivariate regression)?\n",
    "\n",
    "Throughout my analysis I will answer these questions and will be able to compare the results with tableau as well."
   ]
  },
  {
   "cell_type": "code",
   "execution_count": null,
   "metadata": {},
   "outputs": [],
   "source": [
    "import pandas as pd\n",
    "import matplotlib.pyplot as plt\n",
    "import seaborn as sns\n",
    "\n",
    "# Load the cleaned data\n",
    "df = pd.read_csv('/Users/andrewhlavacek/Documents/EDA_NYCAirbnb/AB_NYC_2019.csv')\n",
    "\n",
    "# Now we need to answer the BEGINNER questions.\n",
    "\n",
    "# 1. Which neighborhood has the most listings?\n",
    "\n",
    "# 2. What is the average price of listings in each neighborhood?\n",
    "\n",
    "# 3.\tWhat is the distribution of room types across NYC?\n",
    "\n",
    "# 4.\tWhich 5 neighborhoods have the highest average price?\n",
    "\n",
    "# 5.\tHow many listings are available for at least 300 days a year?"
   ]
  }
 ],
 "metadata": {
  "kernelspec": {
   "display_name": "Python 3",
   "language": "python",
   "name": "python3"
  },
  "language_info": {
   "codemirror_mode": {
    "name": "ipython",
    "version": 3
   },
   "file_extension": ".py",
   "mimetype": "text/x-python",
   "name": "python",
   "nbconvert_exporter": "python",
   "pygments_lexer": "ipython3",
   "version": "3.12.0"
  }
 },
 "nbformat": 4,
 "nbformat_minor": 2
}
